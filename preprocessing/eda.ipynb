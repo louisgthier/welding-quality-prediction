{
 "cells": [
  {
   "cell_type": "code",
   "execution_count": 1,
   "metadata": {},
   "outputs": [],
   "source": [
    "import numpy as np\n",
    "import pandas as pd\n",
    "import matplotlib.pyplot as plt\n",
    "import seaborn as sns"
   ]
  },
  {
   "cell_type": "code",
   "execution_count": null,
   "metadata": {},
   "outputs": [],
   "source": [
    "data = pd.read_csv('../data/welddb_cleaned.csv')\n",
    "data.info()\n",
    "\n",
    "plt.figure(figsize=(12, 6))\n",
    "sns.heatmap(data.isnull(), cbar=False, cmap='viridis')\n",
    "plt.xlabel('Features')\n",
    "plt.ylabel('Samples')\n",
    "plt.title('Missing Values in the Dataset')\n",
    "plt.show()"
   ]
  },
  {
   "cell_type": "code",
   "execution_count": null,
   "metadata": {},
   "outputs": [],
   "source": [
    "# we have 4 main scenarios to handle missing values:\n",
    "# - we have all the target values, except Charpy impact toughness\n",
    "# - we have Charpy impact toughness,\n",
    "# - we have all the target values\n",
    "# - other cases (ie for example 2 target values)\n",
    "\n",
    "target_labels = ['Yield strength / MPa', \n",
    "                 'Ultimate tensile strength / MPa', \n",
    "                 'Elongation / %', \n",
    "                 'Reduction of Area / %', \n",
    "                 'Charpy impact toughness / J']\n",
    "\n",
    "scenarios = {\n",
    "    'all_targets': target_labels,\n",
    "    'all_targets_except_charpy': target_labels[:-1],\n",
    "    'charpy_only': target_labels[-1],\n",
    "    'other': []\n",
    "}\n",
    "\n",
    "target_df = data[target_labels]\n",
    "target_df.fillna(np.nan, inplace=True)\n",
    "print(target_df.head())\n",
    "\n",
    "scenarios_count = {}\n",
    "for s in scenarios.keys():\n",
    "    scenarios_count[s] = 0\n",
    "\n",
    "for i, row in target_df.iterrows():\n",
    "    missing_values = row.isnull().sum()\n",
    "    \n",
    "    if missing_values == 0:\n",
    "        scenarios_count['all_targets'] += 1\n",
    "    elif missing_values == 1 and pd.isna(row['Charpy impact toughness / J']):\n",
    "        scenarios_count['all_targets_except_charpy'] += 1\n",
    "    elif missing_values == 4 and not pd.isna(row['Charpy impact toughness / J']):\n",
    "        scenarios_count['charpy_only'] += 1\n",
    "    else:\n",
    "        scenarios_count['other'] += 1\n",
    "\n",
    "print(scenarios_count)\n",
    "\n",
    "plt.figure(figsize=(8, 8))\n",
    "plt.pie(scenarios_count.values(), labels=scenarios_count.keys(), autopct='%1.1f%%', startangle=140)\n",
    "plt.title('Data Distribution by Scenario')\n",
    "plt.show()\n",
    "\n",
    "\n"
   ]
  },
  {
   "cell_type": "code",
   "execution_count": null,
   "metadata": {},
   "outputs": [],
   "source": [
    "quantitative = data.select_dtypes(include=['int64', 'float64'])\n",
    "plt.figure(figsize=(12, 6))\n",
    "sns.heatmap(quantitative.corr(), cmap='viridis', annot=True)\n",
    "plt.title('Correlation Heatmap')\n",
    "plt.show()\n",
    "\n"
   ]
  }
 ],
 "metadata": {
  "kernelspec": {
   "display_name": "Python 3",
   "language": "python",
   "name": "python3"
  },
  "language_info": {
   "codemirror_mode": {
    "name": "ipython",
    "version": 3
   },
   "file_extension": ".py",
   "mimetype": "text/x-python",
   "name": "python",
   "nbconvert_exporter": "python",
   "pygments_lexer": "ipython3",
   "version": "3.12.1"
  }
 },
 "nbformat": 4,
 "nbformat_minor": 2
}
